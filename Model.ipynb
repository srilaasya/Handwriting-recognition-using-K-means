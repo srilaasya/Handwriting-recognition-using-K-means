{
  "nbformat": 4,
  "nbformat_minor": 0,
  "metadata": {
    "colab": {
      "name": "Model",
      "provenance": []
    },
    "kernelspec": {
      "name": "python3",
      "display_name": "Python 3"
    }
  },
  "cells": [
    {
      "cell_type": "code",
      "metadata": {
        "colab": {
          "base_uri": "https://localhost:8080/"
        },
        "id": "texWeoJknHk5",
        "outputId": "0a931ad4-12e5-4a4c-cdc5-52cca48403ef"
      },
      "source": [
        "import numpy as np\r\n",
        "from matplotlib import pyplot as plt\r\n",
        "from sklearn import datasets\r\n",
        "from sklearn.cluster import KMeans\r\n",
        "from mlxtend.data import loadlocal_mnist\r\n",
        "import platform\r\n",
        "\r\n",
        "digits = datasets.load_digits()\r\n",
        "print(digits.data)\r\n",
        "print(digits.target)"
      ],
      "execution_count": 53,
      "outputs": [
        {
          "output_type": "stream",
          "text": [
            "[[ 0.  0.  5. ...  0.  0.  0.]\n",
            " [ 0.  0.  0. ... 10.  0.  0.]\n",
            " [ 0.  0.  0. ... 16.  9.  0.]\n",
            " ...\n",
            " [ 0.  0.  1. ...  6.  0.  0.]\n",
            " [ 0.  0.  2. ... 12.  0.  0.]\n",
            " [ 0.  0. 10. ... 12.  1.  0.]]\n",
            "[0 1 2 ... 8 9 8]\n"
          ],
          "name": "stdout"
        }
      ]
    },
    {
      "cell_type": "code",
      "metadata": {
        "colab": {
          "base_uri": "https://localhost:8080/",
          "height": 309
        },
        "id": "JMwIz94vnxGF",
        "outputId": "49ed6fd7-d25c-4ad0-c0d0-9073a9382b1f"
      },
      "source": [
        "plt.gray() \r\n",
        "\r\n",
        "plt.matshow(digits.images[10])\r\n",
        "\r\n",
        "plt.show()\r\n",
        "print(digits.target[10])"
      ],
      "execution_count": 54,
      "outputs": [
        {
          "output_type": "display_data",
          "data": {
            "text/plain": [
              "<Figure size 432x288 with 0 Axes>"
            ]
          },
          "metadata": {
            "tags": []
          }
        },
        {
          "output_type": "display_data",
          "data": {
            "image/png": "[encoded data removed]",
            "text/plain": [
              "<Figure size 288x288 with 1 Axes>"
            ]
          },
          "metadata": {
            "tags": [],
            "needs_background": "light"
          }
        },
        {
          "output_type": "stream",
          "text": [
            "0\n"
          ],
          "name": "stdout"
        }
      ]
    },
    {
      "cell_type": "code",
      "metadata": {
        "colab": {
          "base_uri": "https://localhost:8080/",
          "height": 466
        },
        "id": "nU7m5mIiYwVA",
        "outputId": "920375d2-3f72-4f98-f79f-804bbad318cc"
      },
      "source": [
        "# Figure size (width, height)\r\n",
        "fig = plt.figure(figsize=(6, 6))\r\n",
        "\r\n",
        "# Adjust the subplots \r\n",
        "fig.subplots_adjust(left=0, right=1, bottom=0, top=1, hspace=0.05, wspace=0.05)\r\n",
        "\r\n",
        "# For each of the 64 images\r\n",
        "for i in range(64):\r\n",
        "\r\n",
        "    # Initialize the subplots: add a subplot in the grid of 8 by 8, at the i+1-th position\r\n",
        "    ax = fig.add_subplot(8, 8, i+1, xticks=[], yticks=[])\r\n",
        "\r\n",
        "    # Display an image at the i-th position\r\n",
        "    ax.imshow(digits.images[i], cmap=plt.cm.binary, interpolation='nearest')\r\n",
        "\r\n",
        "    # Label the image with the target value\r\n",
        "    ax.text(0, 7, str(digits.target[i]))\r\n",
        "\r\n",
        "plt.show()"
      ],
      "execution_count": 58,
      "outputs": [
        {
          "output_type": "display_data",
          "data": {
            "image/png": "[encoded data removed]",
            "text/plain": [
              "<Figure size 432x432 with 64 Axes>"
            ]
          },
          "metadata": {
            "tags": []
          }
        }
      ]
    },
    {
      "cell_type": "code",
      "metadata": {
        "colab": {
          "base_uri": "https://localhost:8080/"
        },
        "id": "wg2eaVBgrQr9",
        "outputId": "d8d45484-301b-41ef-f527-70ae5ce3f8a4"
      },
      "source": [
        "model = KMeans(n_clusters=10, random_state=45)\r\n",
        "model.fit(digits.data)"
      ],
      "execution_count": 25,
      "outputs": [
        {
          "output_type": "execute_result",
          "data": {
            "text/plain": [
              "KMeans(algorithm='auto', copy_x=True, init='k-means++', max_iter=300,\n",
              "       n_clusters=10, n_init=10, n_jobs=None, precompute_distances='auto',\n",
              "       random_state=45, tol=0.0001, verbose=0)"
            ]
          },
          "metadata": {
            "tags": []
          },
          "execution_count": 25
        }
      ]
    },
    {
      "cell_type": "code",
      "metadata": {
        "colab": {
          "base_uri": "https://localhost:8080/",
          "height": 87
        },
        "id": "mEhNtj7ir26j",
        "outputId": "4af3282c-ab22-4772-c3a4-06d863d2e0df"
      },
      "source": [
        "plt.figure(figsize=(8, 3))\r\n",
        "plt.suptitle('Cluster Center Images', fontsize=14, fontweight='bold')\r\n",
        "\r\n",
        "for i in range(10):\r\n",
        "  ax = fig.add_subplot(2, 5, 1 + i, xticks=[], yticks=[])\r\n",
        "\r\n",
        "  # Display images\r\n",
        "  ax.imshow(model.cluster_centers_[i].reshape((8, 8)),  cmap=plt.cm.binary)\r\n",
        "plt.show()"
      ],
      "execution_count": 45,
      "outputs": [
        {
          "output_type": "stream",
          "text": [
            "/usr/local/lib/python3.6/dist-packages/ipykernel_launcher.py:5: MatplotlibDeprecationWarning: Adding an axes using the same arguments as a previous axes currently reuses the earlier instance.  In a future version, a new instance will always be created and returned.  Meanwhile, this warning can be suppressed, and the future behavior ensured, by passing a unique label to each axes instance.\n",
            "  \"\"\"\n"
          ],
          "name": "stderr"
        },
        {
          "output_type": "display_data",
          "data": {
            "text/plain": [
              "<Figure size 576x216 with 0 Axes>"
            ]
          },
          "metadata": {
            "tags": []
          }
        }
      ]
    },
    {
      "cell_type": "code",
      "metadata": {
        "id": "IEBAybeiwOx3"
      },
      "source": [
        "#Instead of passing a test dataset, I generated a random array by drawing digits 2131\r\n",
        "new_samples = np.array([\r\n",
        "[0.00,1.07,4.80,5.34,3.97,0.00,0.00,0.00,0.00,3.05,7.62,6.40,7.63,1.60,0.00,0.00,0.00,2.29,6.41,0.99,7.62,2.29,0.00,0.00,0.00,0.00,0.00,2.36,7.62,2.14,0.00,0.00,0.00,0.00,3.81,7.47,6.48,0.30,0.00,0.00,0.00,2.52,7.62,7.47,4.42,3.59,0.15,0.00,0.00,3.58,7.62,7.62,7.24,6.64,0.46,0.00,0.00,0.15,0.76,0.61,0.00,0.00,0.00,0.00],\r\n",
        "[0.00,3.05,6.79,2.21,0.08,0.00,0.00,0.00,0.99,7.55,7.55,7.62,7.24,2.98,0.00,0.00,2.29,7.62,1.75,2.82,6.33,7.02,0.31,0.00,4.42,7.62,0.53,0.00,2.52,7.62,1.45,0.00,5.34,7.09,0.38,0.00,2.59,7.62,1.45,0.00,2.52,7.63,6.18,3.96,7.09,6.79,0.30,0.00,0.00,3.13,6.41,6.86,5.95,1.45,0.00,0.00,0.00,0.00,0.00,0.00,0.00,0.00,0.00,0.00],\r\n",
        "[0.00,0.00,0.38,0.23,0.00,0.00,0.00,0.00,0.00,0.07,6.63,4.58,2.06,0.00,0.00,0.00,0.00,1.91,7.62,5.19,7.62,0.76,0.00,0.00,0.00,4.95,7.62,5.19,7.62,6.10,2.59,0.00,0.00,6.63,7.62,7.32,7.62,5.57,1.91,0.00,0.00,0.46,0.69,2.29,7.62,1.15,0.00,0.00,0.00,0.00,0.00,1.83,7.63,1.83,0.00,0.00,0.00,0.00,0.00,0.00,0.00,0.00,0.00,0.00],\r\n",
        "[0.00,1.22,1.52,0.61,0.00,0.00,0.00,0.00,2.44,7.62,7.62,7.63,3.74,0.00,0.00,0.00,7.17,6.25,1.83,5.57,7.24,1.60,0.00,0.00,7.62,2.06,0.00,0.76,6.94,5.34,0.00,0.00,7.62,0.30,0.00,0.69,6.79,5.34,0.00,0.00,7.62,5.34,3.81,6.33,7.32,1.60,0.00,0.00,3.97,6.86,6.86,6.63,1.98,0.00,0.00,0.00,0.00,0.00,0.00,0.00,0.00,0.00,0.00,0.00]\r\n",
        "])"
      ],
      "execution_count": 42,
      "outputs": []
    },
    {
      "cell_type": "code",
      "metadata": {
        "id": "dBO62riBxSJg"
      },
      "source": [
        "#Predicting labels\r\n",
        "new_labels = model.predict(new_samples)"
      ],
      "execution_count": 43,
      "outputs": []
    },
    {
      "cell_type": "code",
      "metadata": {
        "colab": {
          "base_uri": "https://localhost:8080/"
        },
        "id": "pbCBxdSIx_m6",
        "outputId": "07d4636f-d524-48e6-e5d7-5b0dc147bebd"
      },
      "source": [
        "for i in range(len(new_labels)):\r\n",
        "  if new_labels[i] == 0:\r\n",
        "    print(0, end='')\r\n",
        "  elif new_labels[i] == 1:\r\n",
        "    print(9, end='')\r\n",
        "  elif new_labels[i] == 2:\r\n",
        "    print(2, end='')\r\n",
        "  elif new_labels[i] == 3:\r\n",
        "    print(1, end='')\r\n",
        "  elif new_labels[i] == 4:\r\n",
        "    print(6, end='')\r\n",
        "  elif new_labels[i] == 5:\r\n",
        "    print(8, end='')\r\n",
        "  elif new_labels[i] == 6:\r\n",
        "    print(4, end='')\r\n",
        "  elif new_labels[i] == 7:\r\n",
        "    print(5, end='')\r\n",
        "  elif new_labels[i] == 8:\r\n",
        "    print(7, end='')\r\n",
        "  elif new_labels[i] == 9:\r\n",
        "    print(3, end='')"
      ],
      "execution_count": 44,
      "outputs": [
        {
          "output_type": "stream",
          "text": [
            "2131"
          ],
          "name": "stdout"
        }
      ]
    }
  ]
}